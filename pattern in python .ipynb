{
 "cells": [
  {
   "cell_type": "code",
   "execution_count": 5,
   "metadata": {},
   "outputs": [
    {
     "name": "stdout",
     "output_type": "stream",
     "text": [
      "*  *  *  *  *  \n",
      "*  *  *  *  *  \n",
      "*  *  *  *  *  \n",
      "*  *  *  *  *  \n",
      "*  *  *  *  *  \n"
     ]
    }
   ],
   "source": [
    "for  x in range(1,6):\n",
    "    for y in range(1,6):\n",
    "        print(\"* \",end=\" \")\n",
    "    print()"
   ]
  },
  {
   "cell_type": "code",
   "execution_count": 6,
   "metadata": {},
   "outputs": [
    {
     "name": "stdout",
     "output_type": "stream",
     "text": [
      "1 1 1 1 1 \n",
      "2 2 2 2 2 \n",
      "3 3 3 3 3 \n",
      "4 4 4 4 4 \n",
      "5 5 5 5 5 \n"
     ]
    }
   ],
   "source": [
    "for  x in range(1,6):\n",
    "    for y in range(1,6):\n",
    "        print(x,end=\" \")\n",
    "    print()"
   ]
  },
  {
   "cell_type": "code",
   "execution_count": 7,
   "metadata": {},
   "outputs": [
    {
     "name": "stdout",
     "output_type": "stream",
     "text": [
      "1 2 3 4 5 \n",
      "1 2 3 4 5 \n",
      "1 2 3 4 5 \n",
      "1 2 3 4 5 \n",
      "1 2 3 4 5 \n"
     ]
    }
   ],
   "source": [
    "for x in range(1,6):\n",
    "    for y in range(1,6):\n",
    "        print(y ,end=\" \")\n",
    "    print()"
   ]
  },
  {
   "cell_type": "code",
   "execution_count": 8,
   "metadata": {},
   "outputs": [
    {
     "name": "stdout",
     "output_type": "stream",
     "text": [
      "A A A A A \n",
      "B B B B B \n",
      "C C C C C \n",
      "D D D D D \n",
      "E E E E E \n"
     ]
    }
   ],
   "source": [
    "for  x in \"ABCDE\":\n",
    "    for  y in \"ABCDE\":\n",
    "        print(x,end=\" \")\n",
    "    print()"
   ]
  },
  {
   "cell_type": "code",
   "execution_count": 9,
   "metadata": {},
   "outputs": [
    {
     "name": "stdout",
     "output_type": "stream",
     "text": [
      "A B C D E \n",
      "A B C D E \n",
      "A B C D E \n",
      "A B C D E \n",
      "A B C D E \n"
     ]
    }
   ],
   "source": [
    "for x in \"ABCDE\":\n",
    "    for y  in \"ABCDE\":\n",
    "        print(y ,end=\" \")\n",
    "    print()"
   ]
  },
  {
   "cell_type": "code",
   "execution_count": 12,
   "metadata": {},
   "outputs": [
    {
     "name": "stdout",
     "output_type": "stream",
     "text": [
      "5 5 5 \n",
      "3 3 3 \n",
      "1 1 1 \n"
     ]
    }
   ],
   "source": [
    "for x in range(5,0,-2):\n",
    "    for  y in range(5,0,-2):\n",
    "        print(x,end=\" \")\n",
    "    print()"
   ]
  },
  {
   "cell_type": "code",
   "execution_count": 13,
   "metadata": {},
   "outputs": [
    {
     "name": "stdout",
     "output_type": "stream",
     "text": [
      "5 4 3 2 1 \n",
      "5 4 3 2 1 \n",
      "5 4 3 2 1 \n",
      "5 4 3 2 1 \n",
      "5 4 3 2 1 \n"
     ]
    }
   ],
   "source": [
    "for x in range(5,0,-1):\n",
    "    for y in range(5,0,-1):\n",
    "        print(y,end=\" \")\n",
    "    print()"
   ]
  },
  {
   "cell_type": "code",
   "execution_count": 16,
   "metadata": {},
   "outputs": [
    {
     "name": "stdout",
     "output_type": "stream",
     "text": [
      "\n",
      "* \n",
      "* * \n",
      "* * * \n",
      "* * * * \n",
      "* * * * * \n"
     ]
    }
   ],
   "source": [
    "for x in range(0,6):\n",
    "    for y in range(1,x+1):\n",
    "        print(\"*\",end=\" \")\n",
    "    print()"
   ]
  },
  {
   "cell_type": "code",
   "execution_count": 17,
   "metadata": {},
   "outputs": [
    {
     "name": "stdout",
     "output_type": "stream",
     "text": [
      "1 \n",
      "2 2 \n",
      "3 3 3 \n",
      "4 4 4 4 \n",
      "5 5 5 5 5 \n"
     ]
    }
   ],
   "source": [
    "for x in range(1,6):\n",
    "    for  y in range(1,x+1):\n",
    "        print(x,end=\" \")\n",
    "    print()"
   ]
  },
  {
   "cell_type": "code",
   "execution_count": 2,
   "metadata": {},
   "outputs": [
    {
     "name": "stdout",
     "output_type": "stream",
     "text": [
      "\n",
      "\n",
      "\n",
      "\n",
      "\n"
     ]
    }
   ],
   "source": [
    "for x  in range(1,6):\n",
    "    for y in range(6,x-1):\n",
    "        print(\"1\", end=\" \")\n",
    "    print()"
   ]
  },
  {
   "cell_type": "code",
   "execution_count": 3,
   "metadata": {},
   "outputs": [
    {
     "name": "stdout",
     "output_type": "stream",
     "text": [
      "1 1 1 1 1 \n",
      "2 2 2 2 \n",
      "3 3 3 \n",
      "4 4 \n",
      "5 \n"
     ]
    }
   ],
   "source": [
    "for x in range(1,6):\n",
    "    for y in range(5,x-1,-1):\n",
    "        print(x,end=\" \")\n",
    "    print()"
   ]
  },
  {
   "cell_type": "code",
   "execution_count": 7,
   "metadata": {},
   "outputs": [
    {
     "name": "stdout",
     "output_type": "stream",
     "text": [
      "1 2 3 4 5 \n",
      "1 2 3 4 \n",
      "1 2 3 \n",
      "1 2 \n",
      "1 \n"
     ]
    }
   ],
   "source": [
    "for  x in range(6,1,-1):\n",
    "    for y  in range(1,x):\n",
    "        print(y,end= \" \")\n",
    "    print()"
   ]
  },
  {
   "cell_type": "code",
   "execution_count": 20,
   "metadata": {},
   "outputs": [
    {
     "name": "stdout",
     "output_type": "stream",
     "text": [
      "1 1 \n",
      "1 1 1 \n",
      "1 1 1 1 \n",
      "1 1 1 1 1 \n",
      "1 1 1 1 1 1 \n",
      "1 1 1 1 1 1 1 \n",
      "1 1 1 1 1 1 1 1 \n",
      "1 1 1 1 1 1 1 1 1 \n"
     ]
    }
   ],
   "source": [
    "for  x in range(1,9):\n",
    "    for y in range(1,x+2):\n",
    "         print(\"1\",end=\" \")\n",
    "    print()"
   ]
  },
  {
   "cell_type": "code",
   "execution_count": 24,
   "metadata": {},
   "outputs": [
    {
     "name": "stdout",
     "output_type": "stream",
     "text": [
      "1 2 3 4 5 6 \n",
      "1 2 3 4 5 \n",
      "1 2 3 4 \n",
      "1 2 3 \n",
      "1 2 \n"
     ]
    }
   ],
   "source": [
    "for x in range(6,1,-1):\n",
    "    for y in range(1,x+1):\n",
    "        print(y ,end=\" \")\n",
    "    print()"
   ]
  },
  {
   "cell_type": "code",
   "execution_count": 4,
   "metadata": {},
   "outputs": [
    {
     "name": "stdout",
     "output_type": "stream",
     "text": [
      "enter the value of number:5\n",
      " 1 8 27 64 125"
     ]
    }
   ],
   "source": [
    "#to print the square number :\n",
    "n=int(input(\"enter the value of number:\"))\n",
    "for x in range(1,n+1):\n",
    "    print(\" \"+str(x*x*x),end='')\n",
    "\n"
   ]
  },
  {
   "cell_type": "code",
   "execution_count": 5,
   "metadata": {},
   "outputs": [
    {
     "name": "stdout",
     "output_type": "stream",
     "text": [
      "Enter  the value of number :5\n",
      " 1 3 5 7 9"
     ]
    }
   ],
   "source": [
    "#to print  the number in odd  number  \n",
    "n=int(input(\"Enter  the value of number :\"))\n",
    "for x in range(1,n+1):\n",
    "    print(\" \"+str(2*x-1),end='')"
   ]
  },
  {
   "cell_type": "code",
   "execution_count": 6,
   "metadata": {},
   "outputs": [
    {
     "name": "stdout",
     "output_type": "stream",
     "text": [
      "Enter  the the value of number 7\n",
      " 2  4  6  8  10  12  14 "
     ]
    }
   ],
   "source": [
    "#to print the even  number  in given range \n",
    "n=int(input(\"Enter  the the value of number \"))\n",
    "for x in range(1,n+1):\n",
    "    print(\" \"+str(2*x),end=\" \")"
   ]
  },
  {
   "cell_type": "code",
   "execution_count": 15,
   "metadata": {},
   "outputs": [
    {
     "name": "stdout",
     "output_type": "stream",
     "text": [
      "enter the value of n 6\n",
      "enter the value of d 3\n",
      "enter the  value of a 2\n",
      "2 5 8 11 14 17 "
     ]
    }
   ],
   "source": [
    "#for the  print the arthmetic series  \n",
    "n=int(input(\"enter the value of n \"))\n",
    "d=int(input(\"enter the value of d \"))\n",
    "a=int(input(\"enter the  value of a \"))\n",
    "for x in range(1,n+1):\n",
    "    print(\"\"+str(a),end=\" \")\n",
    "    a=a+d"
   ]
  },
  {
   "cell_type": "code",
   "execution_count": 19,
   "metadata": {},
   "outputs": [
    {
     "name": "stdout",
     "output_type": "stream",
     "text": [
      "\n",
      "\n",
      "s\n",
      "\n",
      "\n",
      "\n",
      "u\n",
      "\n",
      "s u m i t \n",
      "\n",
      "i\n",
      "\n",
      "\n",
      "\n",
      "t\n",
      "\n"
     ]
    }
   ],
   "source": [
    "#to familize with  the stiring in python \n",
    "string=\"sumit\"\n",
    "for x in range(0,5):\n",
    "    for y in range(0,5):\n",
    "        if x==2:\n",
    "            print(string[y],end=\" \")\n",
    "        elif y==2:\n",
    "            print(string[x],end=\"\")\n",
    "        else:\n",
    "            print(\"\",end=\"\")\n",
    "            print()\n",
    " \n",
    "    \n",
    "        "
   ]
  },
  {
   "cell_type": "code",
   "execution_count": 27,
   "metadata": {},
   "outputs": [
    {
     "name": "stdout",
     "output_type": "stream",
     "text": [
      "  **  **  \n",
      "*    *    *\n",
      "*          *\n",
      "  *      *  \n",
      "    *  *    \n",
      "      *      \n"
     ]
    }
   ],
   "source": [
    "#to print the heart symbol in using python\n",
    "for row  in range(0,6):\n",
    "    for  col in range(0,7):\n",
    "        if(row==0 and col%3!=0)or(row==1 and col%3==0) or(row-col==2) or (row+col==8):\n",
    "            print(\"*\",end=\"\")\n",
    "        else:\n",
    "            print(\" \",end=\" \")\n",
    "    print()\n",
    "    "
   ]
  },
  {
   "cell_type": "code",
   "execution_count": 1,
   "metadata": {},
   "outputs": [
    {
     "name": "stdout",
     "output_type": "stream",
     "text": [
      "    1 \n",
      "   1 2 \n",
      "  1 2 3 \n",
      " 1 2 3 4 \n",
      "1 2 3 4 5 \n"
     ]
    }
   ],
   "source": [
    "for  x in range(1,6):\n",
    "    for  y in range(5,x,-1):\n",
    "        print('',end=\" \")\n",
    "    for  z in range(1,x+1):\n",
    "        print(z,end=\" \")\n",
    "    print()"
   ]
  },
  {
   "cell_type": "code",
   "execution_count": 5,
   "metadata": {},
   "outputs": [
    {
     "name": "stdout",
     "output_type": "stream",
     "text": [
      "* * * * * \n",
      " * * * * \n",
      "  * * * \n",
      "   * * \n",
      "    * \n"
     ]
    }
   ],
   "source": [
    "for x in range(5,0,-1):\n",
    "    for  y in range(5,0,-1):\n",
    "        if x >=y:\n",
    "            print(\"*\",end=\" \")\n",
    "        else:\n",
    "            print(\" \",end=\"\")\n",
    "    print()\n",
    "    "
   ]
  },
  {
   "cell_type": "code",
   "execution_count": 11,
   "metadata": {},
   "outputs": [
    {
     "name": "stdout",
     "output_type": "stream",
     "text": [
      "Enter  the value of number:6\n",
      "*     * \n",
      " *   *  \n",
      "  * *   \n",
      "  * *   \n",
      " *   *  \n",
      "*     * \n"
     ]
    }
   ],
   "source": [
    "n=int(input(\"Enter  the value of number:\"))\n",
    "for x in range(1,n+1):\n",
    "    for y in range(1,n+1):\n",
    "        if(x==y or x+y==n+1):\n",
    "            print(\"* \",end=\"\")\n",
    "        else:\n",
    "            print(\" \",end='')\n",
    "    print()\n",
    "        "
   ]
  },
  {
   "cell_type": "code",
   "execution_count": 15,
   "metadata": {},
   "outputs": [
    {
     "name": "stdout",
     "output_type": "stream",
     "text": [
      "enter the value of number:5\n",
      "*\n",
      "*\n",
      "*****\n",
      "*\n",
      "*\n"
     ]
    }
   ],
   "source": [
    "n=int(input(\"enter the value of number:\"))\n",
    "cen=n//2+1\n",
    "for x in range(1,n+1):\n",
    "    for y in range(1,n+1):\n",
    "        if(x==cen or y ==cen):\n",
    "            print(\"*\",end=\"\")\n",
    "        else:\n",
    "            print(\"\",end=\"\")\n",
    "    print()\n",
    "    "
   ]
  },
  {
   "cell_type": "code",
   "execution_count": 18,
   "metadata": {},
   "outputs": [
    {
     "name": "stdout",
     "output_type": "stream",
     "text": [
      "11*11\n",
      "11*11\n",
      "*****\n",
      "11*11\n",
      "11*11\n"
     ]
    }
   ],
   "source": [
    "n=5\n",
    "cen=n//2+1\n",
    "for x in range(1,n+1):\n",
    "    for y in range(1,n+1):\n",
    "        if(x==cen or  y==cen):\n",
    "            print(\"*\",end=\"\")\n",
    "        else:\n",
    "            print(\"1\",end=\"\")\n",
    "    print()"
   ]
  },
  {
   "cell_type": "code",
   "execution_count": 26,
   "metadata": {},
   "outputs": [
    {
     "name": "stdout",
     "output_type": "stream",
     "text": [
      "    #\n",
      "#\n",
      "#\n",
      "#\n",
      "#\n",
      "#\n",
      "\n",
      "   #\n",
      "#\n",
      "#\n",
      "#\n",
      "#\n",
      "#\n",
      "\n",
      "  #\n",
      "#\n",
      "#\n",
      "#\n",
      "#\n",
      "#\n",
      "\n",
      " #\n",
      "#\n",
      "#\n",
      "#\n",
      "#\n",
      "#\n",
      "\n",
      "#\n",
      "#\n",
      "#\n",
      "#\n",
      "#\n",
      "#\n",
      "\n"
     ]
    }
   ],
   "source": [
    "n=5\n",
    "for x in range(0,n):\n",
    "    for y in range(n-1,x,-1):\n",
    "        print(\"\",end=\" \")\n",
    "    for z in range(0,n+1):\n",
    "        print(\"#\")\n",
    "    print()\n",
    "    \n",
    "    \n",
    "    \n",
    "    "
   ]
  },
  {
   "cell_type": "code",
   "execution_count": null,
   "metadata": {},
   "outputs": [],
   "source": [
    "is "
   ]
  }
 ],
 "metadata": {
  "kernelspec": {
   "display_name": "Python 3",
   "language": "python",
   "name": "python3"
  },
  "language_info": {
   "codemirror_mode": {
    "name": "ipython",
    "version": 3
   },
   "file_extension": ".py",
   "mimetype": "text/x-python",
   "name": "python",
   "nbconvert_exporter": "python",
   "pygments_lexer": "ipython3",
   "version": "3.7.4"
  }
 },
 "nbformat": 4,
 "nbformat_minor": 2
}
